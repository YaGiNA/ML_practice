{
 "cells": [
  {
   "cell_type": "code",
   "execution_count": 1,
   "metadata": {},
   "outputs": [],
   "source": [
    "from test_ifidf import get_tf_title\n",
    "import os\n",
    "from sklearn.svm import SVC\n",
    "from sklearn.metrics import f1_score\n",
    "from sklearn.model_selection import StratifiedKFold, cross_validate\n",
    "from gensim.models import word2vec\n",
    "import gensim\n",
    "import pickle\n",
    "import logging\n",
    "import numpy\n",
    "import pandas as pd\n",
    "import statistics\n",
    "from check_kind import all_tf_nums"
   ]
  },
  {
   "cell_type": "code",
   "execution_count": 2,
   "metadata": {},
   "outputs": [],
   "source": [
    "train_file = os.path.abspath('./liar_dataset/train.tsv')\n",
    "test_file = os.path.abspath('./liar_dataset/test.tsv')\n",
    "valid_file = os.path.abspath('./liar_dataset/valid.tsv')"
   ]
  },
  {
   "cell_type": "code",
   "execution_count": 3,
   "metadata": {},
   "outputs": [],
   "source": [
    "if os.path.exists('GoogleNews-vectors-negative300.bin'):\n",
    "    model = gensim.models.KeyedVectors.load_word2vec_format('GoogleNews-vectors-negative300.bin', binary=True)\n",
    "    with open('infos.pickle', mode='rb') as f:\n",
    "        infos = pickle.load(f)\n",
    "elif os.path.exists(\"./wiki.model\"):\n",
    "    model = word2vec.Word2Vec.load(\"wiki.model\")\n",
    "    with open('infos.pickle', mode='rb') as f:\n",
    "        infos = pickle.load(f)\n",
    "else:\n",
    "    infos = [info for filename in [train_file, test_file, valid_file] for info in get_tf_title(filename) ]\n",
    "    with open('infos.pickle', mode='wb') as f:\n",
    "        pickle.dump(infos, f)\n",
    "    with open('quotes.txt', 'w') as f:\n",
    "        quotes = infos[1]\n",
    "        for quote in quotes:\n",
    "            f.write(quote + \"\\n\")\n",
    "\n",
    "    sentences = word2vec.Text8Corpus('quotes.txt')\n",
    "    logging.basicConfig(format='%(asctime)s : %(levelname)s : %(message)s', level=logging.INFO)\n",
    "    model = word2vec.Word2Vec(sentences, size=500, min_count=1, window=15)\n",
    "    model.save(\"./wiki.model\")\n",
    "    os.remove('quotes.txt')"
   ]
  },
  {
   "cell_type": "code",
   "execution_count": 4,
   "metadata": {},
   "outputs": [],
   "source": [
    "# https://medium.com/eureka-engineering/pairs%E3%81%AE%E3%82%B3%E3%83%9F%E3%83%A5%E3%83%8B%E3%83%86%E3%82%A3%E3%82%92word2vec%E3%81%A8svm%E3%81%A7%E5%88%86%E9%A1%9E%E3%81%97%E3%81%A6%E3%81%BF%E3%81%9F-48f4099f0ffc\n",
    "def text_to_vec(words, model):\n",
    "    word_vecs = []\n",
    "    for word in words:\n",
    "        try:\n",
    "            word_vecs.append(model[word])\n",
    "        except:\n",
    "            pass\n",
    "    if len(word_vecs) == 0:\n",
    "        return None\n",
    "    text_vec = numpy.zeros(word_vecs[0].shape, dtype = word_vecs[0].dtype)\n",
    "    for word_vec in word_vecs:\n",
    "        text_vec = text_vec + word_vec\n",
    "    return text_vec"
   ]
  },
  {
   "cell_type": "code",
   "execution_count": 5,
   "metadata": {},
   "outputs": [],
   "source": [
    "def normalize(vec):\n",
    "    return vec / numpy.linalg.norm(vec)"
   ]
  },
  {
   "cell_type": "code",
   "execution_count": 6,
   "metadata": {},
   "outputs": [],
   "source": [
    "if os.path.exists('./features.pickle'):\n",
    "    with open('features.pickle', mode='rb') as f:\n",
    "        features = pickle.load(f)\n",
    "else:\n",
    "    quotes = infos[1]\n",
    "    features = []\n",
    "    for quote in infos[1]:\n",
    "        quote_words = quote.rstrip().split(' ')\n",
    "        quote_name = ''.join(quote_words).replace(\"/\", \"\")[:10]\n",
    "        quote_vec = text_to_vec(quote_words, model)\n",
    "        quote_vec = normalize(quote_vec)\n",
    "        numpy.savetxt('./vec/' + quote_name, quote_vec)\n",
    "        features.append(quote_vec)\n",
    "    with open('features.pickle', mode='wb') as f:\n",
    "        pickle.dump(features, f)"
   ]
  },
  {
   "cell_type": "code",
   "execution_count": 7,
   "metadata": {},
   "outputs": [
    {
     "name": "stdout",
     "output_type": "stream",
     "text": [
      "CPU times: user 7min 13s, sys: 1.08 s, total: 7min 14s\n",
      "Wall time: 7min 25s\n"
     ]
    }
   ],
   "source": [
    "%%time\n",
    "# トレーニングデータから分類器を作成 (SVM)\n",
    "estimator = SVC(C=1.0)\n",
    "scoring = {\n",
    "    \"p\": \"precision\",\n",
    "    \"r\": \"recall\",\n",
    "    \"f\": \"f1\"\n",
    "}\n",
    "skf = StratifiedKFold(n_splits=5, shuffle=True, random_state=0)\n",
    "scores = cross_validate(estimator, features, infos[0], cv=skf, scoring=scoring, return_train_score=True,)\n",
    "with open('scores.pickle', mode='wb') as f:\n",
    "    pickle.dump(scores, f)"
   ]
  },
  {
   "cell_type": "code",
   "execution_count": 8,
   "metadata": {},
   "outputs": [],
   "source": [
    "all_true, all_false = all_tf_nums([train_file, test_file, valid_file])\n",
    "base_p = all_true / (all_true + all_false)\n",
    "base_r = all_true / all_true\n",
    "base_f = statistics.harmonic_mean([base_p, base_r])"
   ]
  },
  {
   "cell_type": "code",
   "execution_count": 9,
   "metadata": {},
   "outputs": [],
   "source": [
    "result = pd.DataFrame([\n",
    "        [base_p, base_r, base_f],\n",
    "        [scores[\"test_p\"].mean(), scores[\"test_r\"].mean(), scores[\"test_f\"].mean()],\n",
    "    ],\n",
    "    index=[\"Baseline\", \"Proposed method\"],\n",
    "    columns=[\"Precision\", \"Recall\", \"F1 score\"],\n",
    ")"
   ]
  },
  {
   "cell_type": "code",
   "execution_count": 11,
   "metadata": {},
   "outputs": [
    {
     "data": {
      "text/html": [
       "<div>\n",
       "<style scoped>\n",
       "    .dataframe tbody tr th:only-of-type {\n",
       "        vertical-align: middle;\n",
       "    }\n",
       "\n",
       "    .dataframe tbody tr th {\n",
       "        vertical-align: top;\n",
       "    }\n",
       "\n",
       "    .dataframe thead th {\n",
       "        text-align: right;\n",
       "    }\n",
       "</style>\n",
       "<table border=\"1\" class=\"dataframe\">\n",
       "  <thead>\n",
       "    <tr style=\"text-align: right;\">\n",
       "      <th></th>\n",
       "      <th>Precision</th>\n",
       "      <th>Recall</th>\n",
       "      <th>F1 score</th>\n",
       "    </tr>\n",
       "  </thead>\n",
       "  <tbody>\n",
       "    <tr>\n",
       "      <th>Baseline</th>\n",
       "      <td>0.557736</td>\n",
       "      <td>1.0</td>\n",
       "      <td>0.716085</td>\n",
       "    </tr>\n",
       "    <tr>\n",
       "      <th>Proposed method</th>\n",
       "      <td>0.723439</td>\n",
       "      <td>1.0</td>\n",
       "      <td>0.839530</td>\n",
       "    </tr>\n",
       "  </tbody>\n",
       "</table>\n",
       "</div>"
      ],
      "text/plain": [
       "                 Precision  Recall  F1 score\n",
       "Baseline          0.557736     1.0  0.716085\n",
       "Proposed method   0.723439     1.0  0.839530"
      ]
     },
     "metadata": {},
     "output_type": "display_data"
    }
   ],
   "source": [
    "display(result)"
   ]
  }
 ],
 "metadata": {
  "kernelspec": {
   "display_name": "Python 3",
   "language": "python",
   "name": "python3"
  },
  "language_info": {
   "codemirror_mode": {
    "name": "ipython",
    "version": 3
   },
   "file_extension": ".py",
   "mimetype": "text/x-python",
   "name": "python",
   "nbconvert_exporter": "python",
   "pygments_lexer": "ipython3",
   "version": "3.6.6"
  }
 },
 "nbformat": 4,
 "nbformat_minor": 2
}
