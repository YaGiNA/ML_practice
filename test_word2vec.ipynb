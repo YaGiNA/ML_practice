{
 "cells": [
  {
   "cell_type": "code",
   "execution_count": 13,
   "metadata": {},
   "outputs": [],
   "source": [
    "from test_ifidf import get_tf_title\n",
    "import os\n",
    "from sklearn.svm import SVC\n",
    "from sklearn.metrics import accuracy_score\n",
    "from gensim.models import word2vec\n",
    "import pickle\n",
    "import logging"
   ]
  },
  {
   "cell_type": "code",
   "execution_count": 2,
   "metadata": {},
   "outputs": [],
   "source": [
    "train_file = os.path.abspath('./liar_dataset/train.tsv')\n",
    "test_file = os.path.abspath('./liar_dataset/test.tsv')\n",
    "train_infos, test_infos = get_tf_title(train_file), get_tf_title(test_file)\n",
    "infos = [train_infos[0] + test_infos[0], train_infos[1] + test_infos[1]]"
   ]
  },
  {
   "cell_type": "code",
   "execution_count": 17,
   "metadata": {},
   "outputs": [],
   "source": [
    "with open('quotes.txt', 'w') as f:\n",
    "    quotes = infos[1]\n",
    "    for quote in quotes:\n",
    "        f.write(quote + \"\\n\")"
   ]
  },
  {
   "cell_type": "code",
   "execution_count": 33,
   "metadata": {
    "scrolled": true
   },
   "outputs": [
    {
     "name": "stderr",
     "output_type": "stream",
     "text": [
      "2018-07-05 16:54:06,599 : INFO : collecting all words and their counts\n",
      "2018-07-05 16:54:06,602 : INFO : PROGRESS: at sentence #0, processed 0 words, keeping 0 word types\n",
      "2018-07-05 16:54:06,667 : INFO : collected 23409 word types from a corpus of 206936 raw words and 21 sentences\n",
      "2018-07-05 16:54:06,667 : INFO : Loading a fresh vocabulary\n",
      "2018-07-05 16:54:06,711 : INFO : min_count=1 retains 23409 unique words (100% of original 23409, drops 0)\n",
      "2018-07-05 16:54:06,712 : INFO : min_count=1 leaves 206936 word corpus (100% of original 206936, drops 0)\n",
      "2018-07-05 16:54:06,777 : INFO : deleting the raw counts dictionary of 23409 items\n",
      "2018-07-05 16:54:06,778 : INFO : sample=0.001 downsamples 38 most-common words\n",
      "2018-07-05 16:54:06,779 : INFO : downsampling leaves estimated 170977 word corpus (82.6% of prior 206936)\n",
      "2018-07-05 16:54:06,840 : INFO : estimated required memory for 23409 words and 200 dimensions: 49158900 bytes\n",
      "2018-07-05 16:54:06,840 : INFO : resetting layer weights\n",
      "2018-07-05 16:54:07,080 : INFO : training model with 3 workers on 23409 vocabulary and 200 features, using sg=0 hs=0 sample=0.001 negative=5 window=15\n",
      "2018-07-05 16:54:07,404 : INFO : worker thread finished; awaiting finish of 2 more threads\n",
      "2018-07-05 16:54:07,408 : INFO : worker thread finished; awaiting finish of 1 more threads\n",
      "2018-07-05 16:54:07,417 : INFO : worker thread finished; awaiting finish of 0 more threads\n",
      "2018-07-05 16:54:07,418 : INFO : EPOCH - 1 : training on 206936 raw words (171101 effective words) took 0.3s, 511027 effective words/s\n",
      "2018-07-05 16:54:07,722 : INFO : worker thread finished; awaiting finish of 2 more threads\n",
      "2018-07-05 16:54:07,725 : INFO : worker thread finished; awaiting finish of 1 more threads\n",
      "2018-07-05 16:54:07,729 : INFO : worker thread finished; awaiting finish of 0 more threads\n",
      "2018-07-05 16:54:07,730 : INFO : EPOCH - 2 : training on 206936 raw words (170965 effective words) took 0.3s, 565707 effective words/s\n",
      "2018-07-05 16:54:07,933 : INFO : worker thread finished; awaiting finish of 2 more threads\n",
      "2018-07-05 16:54:07,945 : INFO : worker thread finished; awaiting finish of 1 more threads\n",
      "2018-07-05 16:54:07,949 : INFO : worker thread finished; awaiting finish of 0 more threads\n",
      "2018-07-05 16:54:07,950 : INFO : EPOCH - 3 : training on 206936 raw words (170916 effective words) took 0.2s, 791417 effective words/s\n",
      "2018-07-05 16:54:08,149 : INFO : worker thread finished; awaiting finish of 2 more threads\n",
      "2018-07-05 16:54:08,151 : INFO : worker thread finished; awaiting finish of 1 more threads\n",
      "2018-07-05 16:54:08,154 : INFO : worker thread finished; awaiting finish of 0 more threads\n",
      "2018-07-05 16:54:08,155 : INFO : EPOCH - 4 : training on 206936 raw words (170973 effective words) took 0.2s, 841941 effective words/s\n",
      "2018-07-05 16:54:08,355 : INFO : worker thread finished; awaiting finish of 2 more threads\n",
      "2018-07-05 16:54:08,357 : INFO : worker thread finished; awaiting finish of 1 more threads\n",
      "2018-07-05 16:54:08,360 : INFO : worker thread finished; awaiting finish of 0 more threads\n",
      "2018-07-05 16:54:08,360 : INFO : EPOCH - 5 : training on 206936 raw words (170777 effective words) took 0.2s, 845414 effective words/s\n",
      "2018-07-05 16:54:08,363 : INFO : training on a 1034680 raw words (854732 effective words) took 1.3s, 666587 effective words/s\n",
      "2018-07-05 16:54:08,364 : INFO : saving Word2Vec object under ./wiki.model, separately None\n",
      "2018-07-05 16:54:08,365 : INFO : not storing attribute vectors_norm\n",
      "2018-07-05 16:54:08,366 : INFO : not storing attribute cum_table\n",
      "2018-07-05 16:54:09,189 : INFO : saved ./wiki.model\n"
     ]
    }
   ],
   "source": [
    "sentences = word2vec.Text8Corpus('quotes.txt')\n",
    "logging.basicConfig(format='%(asctime)s : %(levelname)s : %(message)s', level=logging.INFO)\n",
    "model = word2vec.Word2Vec(sentences, size=200, min_count=1, window=15)\n",
    "model.save(\"./wiki.model\")"
   ]
  },
  {
   "cell_type": "code",
   "execution_count": 34,
   "metadata": {},
   "outputs": [
    {
     "name": "stderr",
     "output_type": "stream",
     "text": [
      "/mnt/c/Users/yuta0/opensuse/.anyenv/envs/pyenv/versions/miniconda3-4.3.30/envs/ML_practice/lib/python3.6/site-packages/ipykernel_launcher.py:1: DeprecationWarning: Call to deprecated `most_similar` (Method will be removed in 4.0.0, use self.wv.most_similar() instead).\n",
      "  \"\"\"Entry point for launching an IPython kernel.\n",
      "2018-07-05 16:54:11,502 : INFO : precomputing L2-norms of word weight vectors\n"
     ]
    },
    {
     "data": {
      "text/plain": [
       "[('Donald', 0.9998905658721924),\n",
       " ('against', 0.9998337030410767),\n",
       " ('Hillary', 0.999778151512146),\n",
       " ('Mitt', 0.99977707862854),\n",
       " ('it.', 0.9997746348381042),\n",
       " ('Romney', 0.9997717142105103),\n",
       " ('Clinton', 0.9997568130493164),\n",
       " ('asked', 0.9997290372848511),\n",
       " ('Sanders', 0.9997267127037048),\n",
       " ('says', 0.9997262954711914)]"
      ]
     },
     "execution_count": 34,
     "metadata": {},
     "output_type": "execute_result"
    }
   ],
   "source": [
    "model.most_similar(\"Trump\")"
   ]
  }
 ],
 "metadata": {
  "kernelspec": {
   "display_name": "Python 3",
   "language": "python",
   "name": "python3"
  },
  "language_info": {
   "codemirror_mode": {
    "name": "ipython",
    "version": 3
   },
   "file_extension": ".py",
   "mimetype": "text/x-python",
   "name": "python",
   "nbconvert_exporter": "python",
   "pygments_lexer": "ipython3",
   "version": "3.6.5"
  }
 },
 "nbformat": 4,
 "nbformat_minor": 2
}
