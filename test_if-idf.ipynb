{
 "cells": [
  {
   "cell_type": "code",
   "execution_count": 2,
   "metadata": {},
   "outputs": [],
   "source": [
    "import os\n",
    "from sklearn.feature_extraction.text import TfidfVectorizer\n",
    "from sklearn.svm import SVC\n",
    "from sklearn.model_selection import StratifiedKFold, cross_validate\n",
    "import pandas as pd"
   ]
  },
  {
   "cell_type": "code",
   "execution_count": 3,
   "metadata": {},
   "outputs": [],
   "source": [
    "train_file = os.path.abspath('./liar_dataset/train.tsv')\n",
    "test_file = os.path.abspath('./liar_dataset/test.tsv')"
   ]
  },
  {
   "cell_type": "code",
   "execution_count": 4,
   "metadata": {},
   "outputs": [],
   "source": [
    "def get_truefalse_info(filename):\n",
    "    infos = []\n",
    "    with open(filename, \"r\") as f:\n",
    "        line = f.readline()\n",
    "        while line:\n",
    "            cols = line.split(\"\\t\")\n",
    "            raw_tf = cols[1]\n",
    "            if raw_tf in {\"false\", \"pants-fire\"}:\n",
    "                tf = False\n",
    "            else:\n",
    "                tf = True\n",
    "            title = cols[2]\n",
    "            infos.append([tf, title])\n",
    "            line = f.readline()\n",
    "    return infos"
   ]
  },
  {
   "cell_type": "code",
   "execution_count": 5,
   "metadata": {},
   "outputs": [],
   "source": [
    "train_infos, test_infos = get_tf_title(train_file), get_tf_title(test_file)\n",
    "infos = [train_infos[0] + test_infos[0], train_infos[1] + test_infos[1]]"
   ]
  },
  {
   "cell_type": "code",
   "execution_count": 6,
   "metadata": {},
   "outputs": [],
   "source": [
    "# http://moritamori.hatenablog.com/entry/tfidf_vectorizer\n",
    "def make_tfidf_vec(infos):\n",
    "    vec = TfidfVectorizer(max_df=10, ngram_range=(1, 1), sublinear_tf=True, norm='l2', stop_words='english')\n",
    "    docs = infos[1]\n",
    "    term_doc = vec.fit_transform(docs)\n",
    "    info_x = term_doc.toarray()\n",
    "    info_y = infos[0]\n",
    "    return info_x, info_y"
   ]
  },
  {
   "cell_type": "code",
   "execution_count": 7,
   "metadata": {},
   "outputs": [],
   "source": [
    "info_x, info_y = make_tfidf_vec(infos)"
   ]
  },
  {
   "cell_type": "code",
   "execution_count": null,
   "metadata": {},
   "outputs": [],
   "source": [
    "%%time\n",
    "# https://hayataka2049.hatenablog.jp/entry/2018/03/31/184557\n",
    "# 線形SVMのインスタンスを生成\n",
    "model = SVC(C=1.0)\n",
    "scoring = {\n",
    "    \"p\": \"precision\",\n",
    "    \"r\": \"recall\",\n",
    "    \"f\":\"f1\"\n",
    "}\n",
    "skf = StratifiedKFold(n_splits=5, shuffle=True, random_state=0)\n",
    "scores = cross_validate(model, info_x, info_y, cv=skf, scoring=scoring, return_train_score=True,)"
   ]
  },
  {
   "cell_type": "code",
   "execution_count": null,
   "metadata": {},
   "outputs": [],
   "source": [
    "pd.DataFrame(\n",
    "    [[\"Precision\", scores[\"test_p\"].mean()], [\"Recall\", scores[\"test_r\"].mean()], [\"F score\", scores[\"test_f\"].mean()]],\n",
    "    columns=(\"name\", \"score\")\n",
    ")"
   ]
  }
 ],
 "metadata": {
  "kernelspec": {
   "display_name": "Python 3",
   "language": "python",
   "name": "python3"
  },
  "language_info": {
   "codemirror_mode": {
    "name": "ipython",
    "version": 3
   },
   "file_extension": ".py",
   "mimetype": "text/x-python",
   "name": "python",
   "nbconvert_exporter": "python",
   "pygments_lexer": "ipython3",
   "version": "3.6.6"
  }
 },
 "nbformat": 4,
 "nbformat_minor": 2
}
