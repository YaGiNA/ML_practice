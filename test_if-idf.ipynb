{
 "cells": [
  {
   "cell_type": "code",
   "execution_count": 1,
   "metadata": {},
   "outputs": [],
   "source": [
    "%matplotlib inline"
   ]
  },
  {
   "cell_type": "code",
   "execution_count": 2,
   "metadata": {},
   "outputs": [],
   "source": [
    "import os\n",
    "from sklearn.feature_extraction.text import TfidfVectorizer\n",
    "from sklearn.svm import SVC\n",
    "from sklearn.metrics import f1_score"
   ]
  },
  {
   "cell_type": "code",
   "execution_count": 3,
   "metadata": {},
   "outputs": [],
   "source": [
    "train_file = os.path.abspath('./liar_dataset/train.tsv')\n",
    "test_file = os.path.abspath('./liar_dataset/test.tsv')"
   ]
  },
  {
   "cell_type": "code",
   "execution_count": 4,
   "metadata": {},
   "outputs": [],
   "source": [
    "def get_tf_title(train_file):\n",
    "    tfs, titles = [], []\n",
    "    with open(train_file, \"r\") as f:\n",
    "        line = f.readline()\n",
    "        while line:\n",
    "            cols = line.split(\"\\t\")\n",
    "            raw_tf = cols[1]\n",
    "            if raw_tf in {\"false\", \"pants-fire\"}:\n",
    "                tf = False\n",
    "            else:\n",
    "                tf = True\n",
    "            title = cols[2]\n",
    "            tfs.append(tf)\n",
    "            titles.append(title)\n",
    "            line = f.readline()\n",
    "    infos = [tfs, titles]     \n",
    "    return infos"
   ]
  },
  {
   "cell_type": "code",
   "execution_count": 5,
   "metadata": {},
   "outputs": [],
   "source": [
    "train_infos, test_infos = get_tf_title(train_file), get_tf_title(test_file)\n",
    "infos = [train_infos[0] + test_infos[0], train_infos[1] + test_infos[1]]"
   ]
  },
  {
   "cell_type": "code",
   "execution_count": 6,
   "metadata": {},
   "outputs": [],
   "source": [
    "# http://moritamori.hatenablog.com/entry/tfidf_vectorizer\n",
    "def make_tfidf_vec(infos):\n",
    "    vec = TfidfVectorizer(max_df=10, ngram_range=(1, 1), sublinear_tf=True, norm='l2', stop_words='english')\n",
    "    docs = infos[1]\n",
    "    term_doc = vec.fit_transform(docs)\n",
    "    info_x = term_doc.toarray()\n",
    "    info_y = infos[0]\n",
    "    return info_x, info_y"
   ]
  },
  {
   "cell_type": "code",
   "execution_count": 7,
   "metadata": {},
   "outputs": [],
   "source": [
    "info_x, info_y = make_tfidf_vec(infos)\n",
    "train_x, train_y = info_x[:len(train_infos[0])], info_y[:len(train_infos[1])]\n",
    "test_x, test_y = info_x[len(train_infos[0]):], info_y[len(train_infos[1]):]"
   ]
  },
  {
   "cell_type": "code",
   "execution_count": 8,
   "metadata": {},
   "outputs": [
    {
     "name": "stdout",
     "output_type": "stream",
     "text": [
      "CPU times: user 18min 51s, sys: 6.42 s, total: 18min 58s\n",
      "Wall time: 20min 22s\n"
     ]
    }
   ],
   "source": [
    "%%time\n",
    "#https://qiita.com/kazuki_hayakawa/items/18b7017da9a6f73eba77\n",
    "# 線形SVMのインスタンスを生成\n",
    "model = SVC(kernel='linear', random_state=None)\n",
    "\n",
    "# モデルの学習。fit関数で行う。\n",
    "model.fit(train_x, train_y)"
   ]
  },
  {
   "cell_type": "code",
   "execution_count": null,
   "metadata": {},
   "outputs": [],
   "source": [
    "%%time\n",
    "pred_train = model.predict(train_x)\n",
    "f1_train = f1_score(train_y, pred_train)\n",
    "print(\"トレーニングデータに対する正解率： %.2f\" % accuracy_train)"
   ]
  },
  {
   "cell_type": "code",
   "execution_count": null,
   "metadata": {},
   "outputs": [],
   "source": [
    "%%time\n",
    "pred_test = model.predict(test_x)\n",
    "f1_test = f1_score(test_y, pred_test)\n",
    "print('テストデータに対する正解率： %.2f' % accuracy_test)"
   ]
  }
 ],
 "metadata": {
  "kernelspec": {
   "display_name": "Python 3",
   "language": "python",
   "name": "python3"
  },
  "language_info": {
   "codemirror_mode": {
    "name": "ipython",
    "version": 3
   },
   "file_extension": ".py",
   "mimetype": "text/x-python",
   "name": "python",
   "nbconvert_exporter": "python",
   "pygments_lexer": "ipython3",
   "version": "3.6.5"
  }
 },
 "nbformat": 4,
 "nbformat_minor": 2
}
